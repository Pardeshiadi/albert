{
 "cells": [
  {
   "cell_type": "code",
   "execution_count": 1,
   "id": "c6a88564",
   "metadata": {},
   "outputs": [],
   "source": [
    "import pandas as pd"
   ]
  },
  {
   "cell_type": "code",
   "execution_count": 2,
   "id": "8eb9a43d",
   "metadata": {},
   "outputs": [],
   "source": [
    "import numpy as np"
   ]
  },
  {
   "cell_type": "code",
   "execution_count": 4,
   "id": "1549f09d",
   "metadata": {},
   "outputs": [],
   "source": [
    "df=pd.read_csv('AcademicPerformance.csv')"
   ]
  },
  {
   "cell_type": "code",
   "execution_count": 5,
   "id": "c086176b",
   "metadata": {},
   "outputs": [
    {
     "data": {
      "text/html": [
       "<div>\n",
       "<style scoped>\n",
       "    .dataframe tbody tr th:only-of-type {\n",
       "        vertical-align: middle;\n",
       "    }\n",
       "\n",
       "    .dataframe tbody tr th {\n",
       "        vertical-align: top;\n",
       "    }\n",
       "\n",
       "    .dataframe thead th {\n",
       "        text-align: right;\n",
       "    }\n",
       "</style>\n",
       "<table border=\"1\" class=\"dataframe\">\n",
       "  <thead>\n",
       "    <tr style=\"text-align: right;\">\n",
       "      <th></th>\n",
       "      <th>gender</th>\n",
       "      <th>race/ethnicity</th>\n",
       "      <th>parental level of education</th>\n",
       "      <th>lunch</th>\n",
       "      <th>test preparation course</th>\n",
       "      <th>Year_Birth</th>\n",
       "      <th>math score</th>\n",
       "      <th>reading score</th>\n",
       "      <th>writing score</th>\n",
       "      <th>Dt_Admission</th>\n",
       "      <th>College_Fees</th>\n",
       "    </tr>\n",
       "  </thead>\n",
       "  <tbody>\n",
       "    <tr>\n",
       "      <th>0</th>\n",
       "      <td>female</td>\n",
       "      <td>group B</td>\n",
       "      <td>bachelor's degree</td>\n",
       "      <td>standard</td>\n",
       "      <td>none</td>\n",
       "      <td>1970</td>\n",
       "      <td>72.0</td>\n",
       "      <td>72</td>\n",
       "      <td>74</td>\n",
       "      <td>6/16/14</td>\n",
       "      <td>$84,835.00</td>\n",
       "    </tr>\n",
       "    <tr>\n",
       "      <th>1</th>\n",
       "      <td>female</td>\n",
       "      <td>group C</td>\n",
       "      <td>some college</td>\n",
       "      <td>standard</td>\n",
       "      <td>completed</td>\n",
       "      <td>1961</td>\n",
       "      <td>NaN</td>\n",
       "      <td>na</td>\n",
       "      <td>A</td>\n",
       "      <td>6/15/14</td>\n",
       "      <td>$57,091.00</td>\n",
       "    </tr>\n",
       "    <tr>\n",
       "      <th>2</th>\n",
       "      <td>female</td>\n",
       "      <td>group B</td>\n",
       "      <td>master's degree</td>\n",
       "      <td>standard</td>\n",
       "      <td>none</td>\n",
       "      <td>1958</td>\n",
       "      <td>90.0</td>\n",
       "      <td>95</td>\n",
       "      <td>93</td>\n",
       "      <td>5/13/14</td>\n",
       "      <td>$67,267.00</td>\n",
       "    </tr>\n",
       "    <tr>\n",
       "      <th>3</th>\n",
       "      <td>male</td>\n",
       "      <td>group A</td>\n",
       "      <td>associate's degree</td>\n",
       "      <td>free/reduced</td>\n",
       "      <td>none</td>\n",
       "      <td>1967</td>\n",
       "      <td>NaN</td>\n",
       "      <td>NaN</td>\n",
       "      <td>44</td>\n",
       "      <td>05-11-2014</td>\n",
       "      <td>$32,474.00</td>\n",
       "    </tr>\n",
       "    <tr>\n",
       "      <th>4</th>\n",
       "      <td>male</td>\n",
       "      <td>group C</td>\n",
       "      <td>some college</td>\n",
       "      <td>standard</td>\n",
       "      <td>none</td>\n",
       "      <td>1989</td>\n",
       "      <td>76.0</td>\n",
       "      <td>78</td>\n",
       "      <td>75</td>\n",
       "      <td>04-08-2014</td>\n",
       "      <td>$21,474.00</td>\n",
       "    </tr>\n",
       "    <tr>\n",
       "      <th>...</th>\n",
       "      <td>...</td>\n",
       "      <td>...</td>\n",
       "      <td>...</td>\n",
       "      <td>...</td>\n",
       "      <td>...</td>\n",
       "      <td>...</td>\n",
       "      <td>...</td>\n",
       "      <td>...</td>\n",
       "      <td>...</td>\n",
       "      <td>...</td>\n",
       "      <td>...</td>\n",
       "    </tr>\n",
       "    <tr>\n",
       "      <th>995</th>\n",
       "      <td>female</td>\n",
       "      <td>group E</td>\n",
       "      <td>master's degree</td>\n",
       "      <td>standard</td>\n",
       "      <td>completed</td>\n",
       "      <td>1972</td>\n",
       "      <td>88.0</td>\n",
       "      <td>99</td>\n",
       "      <td>95</td>\n",
       "      <td>8/24/12</td>\n",
       "      <td>$57,107.00</td>\n",
       "    </tr>\n",
       "    <tr>\n",
       "      <th>996</th>\n",
       "      <td>male</td>\n",
       "      <td>group C</td>\n",
       "      <td>high school</td>\n",
       "      <td>free/reduced</td>\n",
       "      <td>none</td>\n",
       "      <td>1972</td>\n",
       "      <td>62.0</td>\n",
       "      <td>55</td>\n",
       "      <td>55</td>\n",
       "      <td>8/17/12</td>\n",
       "      <td>$76,467.00</td>\n",
       "    </tr>\n",
       "    <tr>\n",
       "      <th>997</th>\n",
       "      <td>female</td>\n",
       "      <td>group C</td>\n",
       "      <td>high school</td>\n",
       "      <td>free/reduced</td>\n",
       "      <td>completed</td>\n",
       "      <td>1972</td>\n",
       "      <td>59.0</td>\n",
       "      <td>71</td>\n",
       "      <td>65</td>\n",
       "      <td>5/27/14</td>\n",
       "      <td>$76,467.01</td>\n",
       "    </tr>\n",
       "    <tr>\n",
       "      <th>998</th>\n",
       "      <td>female</td>\n",
       "      <td>group D</td>\n",
       "      <td>some college</td>\n",
       "      <td>standard</td>\n",
       "      <td>completed</td>\n",
       "      <td>1972</td>\n",
       "      <td>68.0</td>\n",
       "      <td>78</td>\n",
       "      <td>77</td>\n",
       "      <td>2/23/14</td>\n",
       "      <td>$51,315.00</td>\n",
       "    </tr>\n",
       "    <tr>\n",
       "      <th>999</th>\n",
       "      <td>female</td>\n",
       "      <td>group D</td>\n",
       "      <td>some college</td>\n",
       "      <td>free/reduced</td>\n",
       "      <td>none</td>\n",
       "      <td>1972</td>\n",
       "      <td>77.0</td>\n",
       "      <td>86</td>\n",
       "      <td>86</td>\n",
       "      <td>01-10-2014</td>\n",
       "      <td>$43,602.00</td>\n",
       "    </tr>\n",
       "  </tbody>\n",
       "</table>\n",
       "<p>1000 rows × 11 columns</p>\n",
       "</div>"
      ],
      "text/plain": [
       "     gender race/ethnicity parental level of education         lunch  \\\n",
       "0    female        group B           bachelor's degree      standard   \n",
       "1    female        group C                some college      standard   \n",
       "2    female        group B             master's degree      standard   \n",
       "3      male        group A          associate's degree  free/reduced   \n",
       "4      male        group C                some college      standard   \n",
       "..      ...            ...                         ...           ...   \n",
       "995  female        group E             master's degree      standard   \n",
       "996    male        group C                 high school  free/reduced   \n",
       "997  female        group C                 high school  free/reduced   \n",
       "998  female        group D                some college      standard   \n",
       "999  female        group D                some college  free/reduced   \n",
       "\n",
       "    test preparation course  Year_Birth  math score reading score  \\\n",
       "0                      none        1970        72.0            72   \n",
       "1                 completed        1961         NaN            na   \n",
       "2                      none        1958        90.0            95   \n",
       "3                      none        1967         NaN           NaN   \n",
       "4                      none        1989        76.0            78   \n",
       "..                      ...         ...         ...           ...   \n",
       "995               completed        1972        88.0            99   \n",
       "996                    none        1972        62.0            55   \n",
       "997               completed        1972        59.0            71   \n",
       "998               completed        1972        68.0            78   \n",
       "999                    none        1972        77.0            86   \n",
       "\n",
       "    writing score Dt_Admission College_Fees  \n",
       "0              74      6/16/14   $84,835.00  \n",
       "1               A      6/15/14   $57,091.00  \n",
       "2              93      5/13/14   $67,267.00  \n",
       "3              44   05-11-2014   $32,474.00  \n",
       "4              75   04-08-2014   $21,474.00  \n",
       "..            ...          ...          ...  \n",
       "995            95      8/24/12   $57,107.00  \n",
       "996            55      8/17/12   $76,467.00  \n",
       "997            65      5/27/14   $76,467.01  \n",
       "998            77      2/23/14   $51,315.00  \n",
       "999            86   01-10-2014   $43,602.00  \n",
       "\n",
       "[1000 rows x 11 columns]"
      ]
     },
     "execution_count": 5,
     "metadata": {},
     "output_type": "execute_result"
    }
   ],
   "source": [
    "df"
   ]
  },
  {
   "cell_type": "code",
   "execution_count": 8,
   "id": "beddb843",
   "metadata": {},
   "outputs": [
    {
     "data": {
      "text/plain": [
       "np.int64(2)"
      ]
     },
     "execution_count": 8,
     "metadata": {},
     "output_type": "execute_result"
    }
   ],
   "source": [
    "df['math score'].isnull().sum()"
   ]
  },
  {
   "cell_type": "code",
   "execution_count": 9,
   "id": "f86d6fdd",
   "metadata": {},
   "outputs": [],
   "source": [
    "missing_values=['n/a','na','--']"
   ]
  },
  {
   "cell_type": "code",
   "execution_count": 10,
   "id": "cb0b8610",
   "metadata": {},
   "outputs": [
    {
     "data": {
      "text/plain": [
       "0       72\n",
       "1       na\n",
       "2       95\n",
       "3      NaN\n",
       "4       78\n",
       "      ... \n",
       "995     99\n",
       "996     55\n",
       "997     71\n",
       "998     78\n",
       "999     86\n",
       "Name: reading score, Length: 1000, dtype: object"
      ]
     },
     "execution_count": 10,
     "metadata": {},
     "output_type": "execute_result"
    }
   ],
   "source": [
    "df['reading score']"
   ]
  },
  {
   "cell_type": "code",
   "execution_count": 11,
   "id": "a7dc2cd2",
   "metadata": {},
   "outputs": [],
   "source": [
    "df=pd.read_csv('AcademicPerformance.csv',na_values=missing_values)"
   ]
  },
  {
   "cell_type": "code",
   "execution_count": 12,
   "id": "90119ea2",
   "metadata": {},
   "outputs": [
    {
     "data": {
      "text/plain": [
       "0      72.0\n",
       "1       NaN\n",
       "2      95.0\n",
       "3       NaN\n",
       "4      78.0\n",
       "       ... \n",
       "995    99.0\n",
       "996    55.0\n",
       "997    71.0\n",
       "998    78.0\n",
       "999    86.0\n",
       "Name: reading score, Length: 1000, dtype: float64"
      ]
     },
     "execution_count": 12,
     "metadata": {},
     "output_type": "execute_result"
    }
   ],
   "source": [
    "df['reading score']"
   ]
  },
  {
   "cell_type": "code",
   "execution_count": 13,
   "id": "1737a391",
   "metadata": {},
   "outputs": [],
   "source": [
    "from datetime import date"
   ]
  },
  {
   "cell_type": "code",
   "execution_count": 14,
   "id": "138cabff",
   "metadata": {},
   "outputs": [],
   "source": [
    "df['age']=date.today().year-df['Year_Birth']"
   ]
  },
  {
   "cell_type": "code",
   "execution_count": 15,
   "id": "e15d9ba1",
   "metadata": {},
   "outputs": [],
   "source": [
    "df['year']=pd.DatetimeIndex(df['Dt_Admission']).year"
   ]
  },
  {
   "cell_type": "code",
   "execution_count": 16,
   "id": "e6a8aa97",
   "metadata": {},
   "outputs": [],
   "source": [
    "df['EL']=date.today().year-df['year']"
   ]
  },
  {
   "cell_type": "code",
   "execution_count": 17,
   "id": "d741390e",
   "metadata": {},
   "outputs": [
    {
     "data": {
      "text/html": [
       "<div>\n",
       "<style scoped>\n",
       "    .dataframe tbody tr th:only-of-type {\n",
       "        vertical-align: middle;\n",
       "    }\n",
       "\n",
       "    .dataframe tbody tr th {\n",
       "        vertical-align: top;\n",
       "    }\n",
       "\n",
       "    .dataframe thead th {\n",
       "        text-align: right;\n",
       "    }\n",
       "</style>\n",
       "<table border=\"1\" class=\"dataframe\">\n",
       "  <thead>\n",
       "    <tr style=\"text-align: right;\">\n",
       "      <th></th>\n",
       "      <th>gender</th>\n",
       "      <th>race/ethnicity</th>\n",
       "      <th>parental level of education</th>\n",
       "      <th>lunch</th>\n",
       "      <th>test preparation course</th>\n",
       "      <th>Year_Birth</th>\n",
       "      <th>math score</th>\n",
       "      <th>reading score</th>\n",
       "      <th>writing score</th>\n",
       "      <th>Dt_Admission</th>\n",
       "      <th>College_Fees</th>\n",
       "      <th>age</th>\n",
       "      <th>year</th>\n",
       "      <th>EL</th>\n",
       "    </tr>\n",
       "  </thead>\n",
       "  <tbody>\n",
       "    <tr>\n",
       "      <th>0</th>\n",
       "      <td>female</td>\n",
       "      <td>group B</td>\n",
       "      <td>bachelor's degree</td>\n",
       "      <td>standard</td>\n",
       "      <td>none</td>\n",
       "      <td>1970</td>\n",
       "      <td>72.0</td>\n",
       "      <td>72.0</td>\n",
       "      <td>74</td>\n",
       "      <td>6/16/14</td>\n",
       "      <td>$84,835.00</td>\n",
       "      <td>55</td>\n",
       "      <td>2014</td>\n",
       "      <td>11</td>\n",
       "    </tr>\n",
       "    <tr>\n",
       "      <th>1</th>\n",
       "      <td>female</td>\n",
       "      <td>group C</td>\n",
       "      <td>some college</td>\n",
       "      <td>standard</td>\n",
       "      <td>completed</td>\n",
       "      <td>1961</td>\n",
       "      <td>NaN</td>\n",
       "      <td>NaN</td>\n",
       "      <td>A</td>\n",
       "      <td>6/15/14</td>\n",
       "      <td>$57,091.00</td>\n",
       "      <td>64</td>\n",
       "      <td>2014</td>\n",
       "      <td>11</td>\n",
       "    </tr>\n",
       "    <tr>\n",
       "      <th>2</th>\n",
       "      <td>female</td>\n",
       "      <td>group B</td>\n",
       "      <td>master's degree</td>\n",
       "      <td>standard</td>\n",
       "      <td>none</td>\n",
       "      <td>1958</td>\n",
       "      <td>90.0</td>\n",
       "      <td>95.0</td>\n",
       "      <td>93</td>\n",
       "      <td>5/13/14</td>\n",
       "      <td>$67,267.00</td>\n",
       "      <td>67</td>\n",
       "      <td>2014</td>\n",
       "      <td>11</td>\n",
       "    </tr>\n",
       "    <tr>\n",
       "      <th>3</th>\n",
       "      <td>male</td>\n",
       "      <td>group A</td>\n",
       "      <td>associate's degree</td>\n",
       "      <td>free/reduced</td>\n",
       "      <td>none</td>\n",
       "      <td>1967</td>\n",
       "      <td>NaN</td>\n",
       "      <td>NaN</td>\n",
       "      <td>44</td>\n",
       "      <td>05-11-2014</td>\n",
       "      <td>$32,474.00</td>\n",
       "      <td>58</td>\n",
       "      <td>2014</td>\n",
       "      <td>11</td>\n",
       "    </tr>\n",
       "    <tr>\n",
       "      <th>4</th>\n",
       "      <td>male</td>\n",
       "      <td>group C</td>\n",
       "      <td>some college</td>\n",
       "      <td>standard</td>\n",
       "      <td>none</td>\n",
       "      <td>1989</td>\n",
       "      <td>76.0</td>\n",
       "      <td>78.0</td>\n",
       "      <td>75</td>\n",
       "      <td>04-08-2014</td>\n",
       "      <td>$21,474.00</td>\n",
       "      <td>36</td>\n",
       "      <td>2014</td>\n",
       "      <td>11</td>\n",
       "    </tr>\n",
       "  </tbody>\n",
       "</table>\n",
       "</div>"
      ],
      "text/plain": [
       "   gender race/ethnicity parental level of education         lunch  \\\n",
       "0  female        group B           bachelor's degree      standard   \n",
       "1  female        group C                some college      standard   \n",
       "2  female        group B             master's degree      standard   \n",
       "3    male        group A          associate's degree  free/reduced   \n",
       "4    male        group C                some college      standard   \n",
       "\n",
       "  test preparation course  Year_Birth  math score  reading score  \\\n",
       "0                    none        1970        72.0           72.0   \n",
       "1               completed        1961         NaN            NaN   \n",
       "2                    none        1958        90.0           95.0   \n",
       "3                    none        1967         NaN            NaN   \n",
       "4                    none        1989        76.0           78.0   \n",
       "\n",
       "  writing score Dt_Admission College_Fees  age  year  EL  \n",
       "0            74      6/16/14   $84,835.00   55  2014  11  \n",
       "1             A      6/15/14   $57,091.00   64  2014  11  \n",
       "2            93      5/13/14   $67,267.00   67  2014  11  \n",
       "3            44   05-11-2014   $32,474.00   58  2014  11  \n",
       "4            75   04-08-2014   $21,474.00   36  2014  11  "
      ]
     },
     "execution_count": 17,
     "metadata": {},
     "output_type": "execute_result"
    }
   ],
   "source": [
    "df.head(5)"
   ]
  },
  {
   "cell_type": "code",
   "execution_count": 18,
   "id": "79895c30",
   "metadata": {},
   "outputs": [],
   "source": [
    "df['Fees']=df['College_Fees'].str.replace(',','').str.replace('$','').str.replace('.','').fillna(0).astype(int)"
   ]
  },
  {
   "cell_type": "code",
   "execution_count": 19,
   "id": "aa1008dd",
   "metadata": {},
   "outputs": [],
   "source": [
    "df['Fees_Million']=df['Fees'].apply(lambda x:round(x/1000000))"
   ]
  },
  {
   "cell_type": "code",
   "execution_count": 20,
   "id": "6e78fd36",
   "metadata": {},
   "outputs": [
    {
     "data": {
      "text/html": [
       "<div>\n",
       "<style scoped>\n",
       "    .dataframe tbody tr th:only-of-type {\n",
       "        vertical-align: middle;\n",
       "    }\n",
       "\n",
       "    .dataframe tbody tr th {\n",
       "        vertical-align: top;\n",
       "    }\n",
       "\n",
       "    .dataframe thead th {\n",
       "        text-align: right;\n",
       "    }\n",
       "</style>\n",
       "<table border=\"1\" class=\"dataframe\">\n",
       "  <thead>\n",
       "    <tr style=\"text-align: right;\">\n",
       "      <th></th>\n",
       "      <th>gender</th>\n",
       "      <th>race/ethnicity</th>\n",
       "      <th>parental level of education</th>\n",
       "      <th>lunch</th>\n",
       "      <th>test preparation course</th>\n",
       "      <th>Year_Birth</th>\n",
       "      <th>math score</th>\n",
       "      <th>reading score</th>\n",
       "      <th>writing score</th>\n",
       "      <th>Dt_Admission</th>\n",
       "      <th>College_Fees</th>\n",
       "      <th>age</th>\n",
       "      <th>year</th>\n",
       "      <th>EL</th>\n",
       "      <th>Fees</th>\n",
       "      <th>Fees_Million</th>\n",
       "    </tr>\n",
       "  </thead>\n",
       "  <tbody>\n",
       "    <tr>\n",
       "      <th>0</th>\n",
       "      <td>female</td>\n",
       "      <td>group B</td>\n",
       "      <td>bachelor's degree</td>\n",
       "      <td>standard</td>\n",
       "      <td>none</td>\n",
       "      <td>1970</td>\n",
       "      <td>72.0</td>\n",
       "      <td>72.0</td>\n",
       "      <td>74</td>\n",
       "      <td>6/16/14</td>\n",
       "      <td>$84,835.00</td>\n",
       "      <td>55</td>\n",
       "      <td>2014</td>\n",
       "      <td>11</td>\n",
       "      <td>8483500</td>\n",
       "      <td>8</td>\n",
       "    </tr>\n",
       "    <tr>\n",
       "      <th>1</th>\n",
       "      <td>female</td>\n",
       "      <td>group C</td>\n",
       "      <td>some college</td>\n",
       "      <td>standard</td>\n",
       "      <td>completed</td>\n",
       "      <td>1961</td>\n",
       "      <td>NaN</td>\n",
       "      <td>NaN</td>\n",
       "      <td>A</td>\n",
       "      <td>6/15/14</td>\n",
       "      <td>$57,091.00</td>\n",
       "      <td>64</td>\n",
       "      <td>2014</td>\n",
       "      <td>11</td>\n",
       "      <td>5709100</td>\n",
       "      <td>6</td>\n",
       "    </tr>\n",
       "    <tr>\n",
       "      <th>2</th>\n",
       "      <td>female</td>\n",
       "      <td>group B</td>\n",
       "      <td>master's degree</td>\n",
       "      <td>standard</td>\n",
       "      <td>none</td>\n",
       "      <td>1958</td>\n",
       "      <td>90.0</td>\n",
       "      <td>95.0</td>\n",
       "      <td>93</td>\n",
       "      <td>5/13/14</td>\n",
       "      <td>$67,267.00</td>\n",
       "      <td>67</td>\n",
       "      <td>2014</td>\n",
       "      <td>11</td>\n",
       "      <td>6726700</td>\n",
       "      <td>7</td>\n",
       "    </tr>\n",
       "    <tr>\n",
       "      <th>3</th>\n",
       "      <td>male</td>\n",
       "      <td>group A</td>\n",
       "      <td>associate's degree</td>\n",
       "      <td>free/reduced</td>\n",
       "      <td>none</td>\n",
       "      <td>1967</td>\n",
       "      <td>NaN</td>\n",
       "      <td>NaN</td>\n",
       "      <td>44</td>\n",
       "      <td>05-11-2014</td>\n",
       "      <td>$32,474.00</td>\n",
       "      <td>58</td>\n",
       "      <td>2014</td>\n",
       "      <td>11</td>\n",
       "      <td>3247400</td>\n",
       "      <td>3</td>\n",
       "    </tr>\n",
       "    <tr>\n",
       "      <th>4</th>\n",
       "      <td>male</td>\n",
       "      <td>group C</td>\n",
       "      <td>some college</td>\n",
       "      <td>standard</td>\n",
       "      <td>none</td>\n",
       "      <td>1989</td>\n",
       "      <td>76.0</td>\n",
       "      <td>78.0</td>\n",
       "      <td>75</td>\n",
       "      <td>04-08-2014</td>\n",
       "      <td>$21,474.00</td>\n",
       "      <td>36</td>\n",
       "      <td>2014</td>\n",
       "      <td>11</td>\n",
       "      <td>2147400</td>\n",
       "      <td>2</td>\n",
       "    </tr>\n",
       "  </tbody>\n",
       "</table>\n",
       "</div>"
      ],
      "text/plain": [
       "   gender race/ethnicity parental level of education         lunch  \\\n",
       "0  female        group B           bachelor's degree      standard   \n",
       "1  female        group C                some college      standard   \n",
       "2  female        group B             master's degree      standard   \n",
       "3    male        group A          associate's degree  free/reduced   \n",
       "4    male        group C                some college      standard   \n",
       "\n",
       "  test preparation course  Year_Birth  math score  reading score  \\\n",
       "0                    none        1970        72.0           72.0   \n",
       "1               completed        1961         NaN            NaN   \n",
       "2                    none        1958        90.0           95.0   \n",
       "3                    none        1967         NaN            NaN   \n",
       "4                    none        1989        76.0           78.0   \n",
       "\n",
       "  writing score Dt_Admission College_Fees  age  year  EL     Fees  \\\n",
       "0            74      6/16/14   $84,835.00   55  2014  11  8483500   \n",
       "1             A      6/15/14   $57,091.00   64  2014  11  5709100   \n",
       "2            93      5/13/14   $67,267.00   67  2014  11  6726700   \n",
       "3            44   05-11-2014   $32,474.00   58  2014  11  3247400   \n",
       "4            75   04-08-2014   $21,474.00   36  2014  11  2147400   \n",
       "\n",
       "   Fees_Million  \n",
       "0             8  \n",
       "1             6  \n",
       "2             7  \n",
       "3             3  \n",
       "4             2  "
      ]
     },
     "execution_count": 20,
     "metadata": {},
     "output_type": "execute_result"
    }
   ],
   "source": [
    "df.head(5)"
   ]
  },
  {
   "cell_type": "code",
   "execution_count": 21,
   "id": "8bd4250c",
   "metadata": {},
   "outputs": [],
   "source": [
    "dataset=[11,41,20,3,101,55,68,97,99,6]"
   ]
  },
  {
   "cell_type": "code",
   "execution_count": 22,
   "id": "ec334883",
   "metadata": {},
   "outputs": [
    {
     "data": {
      "text/plain": [
       "[3, 6, 11, 20, 41, 55, 68, 97, 99, 101]"
      ]
     },
     "execution_count": 22,
     "metadata": {},
     "output_type": "execute_result"
    }
   ],
   "source": [
    "sorted(dataset)"
   ]
  },
  {
   "cell_type": "code",
   "execution_count": 23,
   "id": "ef0e574f",
   "metadata": {},
   "outputs": [
    {
     "name": "stdout",
     "output_type": "stream",
     "text": [
      "quantile1: 13.25   quantile3: 89.75\n"
     ]
    }
   ],
   "source": [
    "quantile1,quantile3=np.percentile(dataset,[25,75])\n",
    "print(\"quantile1:\",quantile1,\" \",\"quantile3:\",quantile3)"
   ]
  },
  {
   "cell_type": "code",
   "execution_count": 25,
   "id": "75f9b08a",
   "metadata": {},
   "outputs": [
    {
     "name": "stdout",
     "output_type": "stream",
     "text": [
      "iqr_value: 76.5\n"
     ]
    }
   ],
   "source": [
    "iqr_value=quantile3-quantile1\n",
    "print(\"iqr_value:\",iqr_value)"
   ]
  },
  {
   "cell_type": "code",
   "execution_count": 26,
   "id": "b0f8f621",
   "metadata": {},
   "outputs": [
    {
     "name": "stdout",
     "output_type": "stream",
     "text": [
      "lower bound: -101.5   upper bound: 204.5\n"
     ]
    }
   ],
   "source": [
    "lower_bound=quantile1-(1.5*iqr_value)\n",
    "upper_bound=quantile3+(1.5*iqr_value)\n",
    "print(\"lower bound:\",lower_bound,\" \",\"upper bound:\",upper_bound)"
   ]
  },
  {
   "cell_type": "code",
   "execution_count": null,
   "id": "1dc443b6",
   "metadata": {},
   "outputs": [],
   "source": []
  }
 ],
 "metadata": {
  "kernelspec": {
   "display_name": "Python 3 (ipykernel)",
   "language": "python",
   "name": "python3"
  },
  "language_info": {
   "codemirror_mode": {
    "name": "ipython",
    "version": 3
   },
   "file_extension": ".py",
   "mimetype": "text/x-python",
   "name": "python",
   "nbconvert_exporter": "python",
   "pygments_lexer": "ipython3",
   "version": "3.11.3"
  }
 },
 "nbformat": 4,
 "nbformat_minor": 5
}
